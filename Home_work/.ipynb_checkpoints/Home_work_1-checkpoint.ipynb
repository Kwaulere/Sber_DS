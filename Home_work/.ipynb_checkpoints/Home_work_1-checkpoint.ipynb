{
 "cells": [
  {
   "cell_type": "markdown",
   "metadata": {
    "toc": true
   },
   "source": [
    "<h1>Table of Contents<span class=\"tocSkip\"></span></h1>\n",
    "<div class=\"toc\"><ul class=\"toc-item\"><li><span><a href=\"#Список-объектов\" data-toc-modified-id=\"Список-объектов-1\"><span class=\"toc-item-num\">1&nbsp;&nbsp;</span>Список объектов</a></span></li><li><span><a href=\"#Забираем-конкретные-объекты\" data-toc-modified-id=\"Забираем-конкретные-объекты-2\"><span class=\"toc-item-num\">2&nbsp;&nbsp;</span>Забираем конкретные объекты</a></span></li><li><span><a href=\"#Сохраним-в-разных-форматах\" data-toc-modified-id=\"Сохраним-в-разных-форматах-3\"><span class=\"toc-item-num\">3&nbsp;&nbsp;</span>Сохраним в разных форматах</a></span><ul class=\"toc-item\"><li><span><a href=\"#csv-формат\" data-toc-modified-id=\"csv-формат-3.1\"><span class=\"toc-item-num\">3.1&nbsp;&nbsp;</span>csv формат</a></span></li><li><span><a href=\"#xlsx-формат\" data-toc-modified-id=\"xlsx-формат-3.2\"><span class=\"toc-item-num\">3.2&nbsp;&nbsp;</span>xlsx формат</a></span></li><li><span><a href=\"#pkl-формат\" data-toc-modified-id=\"pkl-формат-3.3\"><span class=\"toc-item-num\">3.3&nbsp;&nbsp;</span>pkl формат</a></span></li><li><span><a href=\"#реляционная-база\" data-toc-modified-id=\"реляционная-база-3.4\"><span class=\"toc-item-num\">3.4&nbsp;&nbsp;</span>реляционная база</a></span></li></ul></li></ul></div>"
   ]
  },
  {
   "cell_type": "code",
   "execution_count": 5,
   "metadata": {
    "ExecuteTime": {
     "end_time": "2022-08-17T15:09:30.184346Z",
     "start_time": "2022-08-17T15:09:30.181319Z"
    }
   },
   "outputs": [],
   "source": [
    "import requests\n",
    "import sys, json\n",
    "import pandas as pd\n",
    "import sqlite3"
   ]
  },
  {
   "cell_type": "markdown",
   "metadata": {},
   "source": [
    "## Список объектов"
   ]
  },
  {
   "cell_type": "code",
   "execution_count": 6,
   "metadata": {
    "ExecuteTime": {
     "end_time": "2022-08-17T15:09:31.091027Z",
     "start_time": "2022-08-17T15:09:31.081175Z"
    }
   },
   "outputs": [],
   "source": [
    "def object(number_object, cycle):\n",
    "    \n",
    "    objids = []\n",
    "    limit_ = int(number_object / cycle)\n",
    "    offset_ = 0\n",
    "    i = 0\n",
    "    \n",
    "    while i < cycle:\n",
    "        \n",
    "        url = f'https://xn--80az8a.xn--d1aqf.xn--p1ai/%D1%81%D0%B5%D1%80%D0%B2%D0%B8%D1%81%D1%8B/api/kn/object?offset={offset_}&limit={limit_}&sortField=devId.devShortCleanNm&sortType=asc&objStatus=0'\n",
    "        res = requests.get(url)\n",
    "        objects_data = res.json()\n",
    "        objects_list = objects_data.get('data').get('list')\n",
    "        objids_1 = [x.get('objId') for x in objects_list]\n",
    "        objids = objids + objids_1\n",
    "        offset_ += limit_\n",
    "        i += 1\n",
    "    return objids  \n",
    "        "
   ]
  },
  {
   "cell_type": "code",
   "execution_count": 7,
   "metadata": {
    "ExecuteTime": {
     "end_time": "2022-08-17T15:11:24.122899Z",
     "start_time": "2022-08-17T15:09:32.557333Z"
    }
   },
   "outputs": [],
   "source": [
    "object_id = object(number_object = 10257, cycle = 2)"
   ]
  },
  {
   "cell_type": "markdown",
   "metadata": {},
   "source": [
    "## Забираем конкретные объекты"
   ]
  },
  {
   "cell_type": "code",
   "execution_count": null,
   "metadata": {
    "ExecuteTime": {
     "start_time": "2022-08-17T15:09:34.155Z"
    }
   },
   "outputs": [],
   "source": [
    "data = pd.DataFrame()\n",
    "\n",
    "for obj in object_id:\n",
    "    \n",
    "    url = f'https://xn--80az8a.xn--d1aqf.xn--p1ai/%D1%81%D0%B5%D1%80%D0%B2%D0%B8%D1%81%D1%8B/api/object/{obj}'\n",
    "    res = requests.get(url)\n",
    "    object_info = res.json()\n",
    "    \n",
    "    object_info_df = pd.json_normalize(object_info)\n",
    "    data = data.append(object_info_df)\n",
    "    \n",
    "    "
   ]
  },
  {
   "cell_type": "code",
   "execution_count": null,
   "metadata": {
    "ExecuteTime": {
     "start_time": "2022-08-17T15:09:35.567Z"
    }
   },
   "outputs": [],
   "source": [
    "data[:5]"
   ]
  },
  {
   "cell_type": "markdown",
   "metadata": {},
   "source": [
    "## Сохраним в разных форматах"
   ]
  },
  {
   "cell_type": "markdown",
   "metadata": {
    "ExecuteTime": {
     "start_time": "2022-08-17T15:11:45.611Z"
    }
   },
   "source": [
    "### csv формат"
   ]
  },
  {
   "cell_type": "code",
   "execution_count": 376,
   "metadata": {
    "ExecuteTime": {
     "end_time": "2022-08-14T13:17:15.936327Z",
     "start_time": "2022-08-14T13:17:15.220075Z"
    }
   },
   "outputs": [],
   "source": [
    "data.to_csv('/Users/crap/Sber/Data/out.csv')"
   ]
  },
  {
   "cell_type": "markdown",
   "metadata": {},
   "source": [
    "### xlsx формат"
   ]
  },
  {
   "cell_type": "code",
   "execution_count": 383,
   "metadata": {
    "ExecuteTime": {
     "end_time": "2022-08-14T13:21:59.845410Z",
     "start_time": "2022-08-14T13:21:49.203485Z"
    }
   },
   "outputs": [],
   "source": [
    "data.to_excel('/Users/crap/Sber/Data/out.xlsx')"
   ]
  },
  {
   "cell_type": "markdown",
   "metadata": {
    "ExecuteTime": {
     "start_time": "2022-08-17T15:12:30.642Z"
    }
   },
   "source": [
    "### pkl формат"
   ]
  },
  {
   "cell_type": "code",
   "execution_count": 384,
   "metadata": {
    "ExecuteTime": {
     "end_time": "2022-08-14T13:22:42.569104Z",
     "start_time": "2022-08-14T13:22:42.298208Z"
    }
   },
   "outputs": [],
   "source": [
    "data.to_pickle('/Users/crap/Sber/Data/out.pkl')"
   ]
  },
  {
   "cell_type": "markdown",
   "metadata": {},
   "source": [
    "### реляционная база"
   ]
  },
  {
   "cell_type": "code",
   "execution_count": 3,
   "metadata": {
    "ExecuteTime": {
     "end_time": "2022-08-17T15:07:09.197585Z",
     "start_time": "2022-08-17T15:07:09.194317Z"
    }
   },
   "outputs": [],
   "source": [
    "conn = sqlite3.connect('test_database')"
   ]
  },
  {
   "cell_type": "code",
   "execution_count": 4,
   "metadata": {
    "ExecuteTime": {
     "end_time": "2022-08-17T15:09:11.923066Z",
     "start_time": "2022-08-17T15:09:11.859846Z"
    }
   },
   "outputs": [
    {
     "ename": "NameError",
     "evalue": "name 'data' is not defined",
     "output_type": "error",
     "traceback": [
      "\u001b[0;31m---------------------------------------------------------------------------\u001b[0m",
      "\u001b[0;31mNameError\u001b[0m                                 Traceback (most recent call last)",
      "\u001b[0;32m<ipython-input-4-5cd6d7f3978b>\u001b[0m in \u001b[0;36m<module>\u001b[0;34m\u001b[0m\n\u001b[0;32m----> 1\u001b[0;31m \u001b[0mdata\u001b[0m\u001b[0;34m.\u001b[0m\u001b[0mto_sql\u001b[0m\u001b[0;34m(\u001b[0m\u001b[0;34m'dataSet'\u001b[0m\u001b[0;34m,\u001b[0m \u001b[0mconn\u001b[0m\u001b[0;34m,\u001b[0m \u001b[0mif_exists\u001b[0m\u001b[0;34m=\u001b[0m\u001b[0;34m'replace'\u001b[0m\u001b[0;34m,\u001b[0m \u001b[0mindex\u001b[0m \u001b[0;34m=\u001b[0m \u001b[0;32mFalse\u001b[0m\u001b[0;34m)\u001b[0m\u001b[0;34m\u001b[0m\u001b[0;34m\u001b[0m\u001b[0m\n\u001b[0m\u001b[1;32m      2\u001b[0m \u001b[0mconn\u001b[0m\u001b[0;34m.\u001b[0m\u001b[0mcommit\u001b[0m\u001b[0;34m(\u001b[0m\u001b[0;34m)\u001b[0m\u001b[0;34m\u001b[0m\u001b[0;34m\u001b[0m\u001b[0m\n\u001b[1;32m      3\u001b[0m \u001b[0mconn\u001b[0m\u001b[0;34m.\u001b[0m\u001b[0mclose\u001b[0m\u001b[0;34m(\u001b[0m\u001b[0;34m)\u001b[0m\u001b[0;34m\u001b[0m\u001b[0;34m\u001b[0m\u001b[0m\n",
      "\u001b[0;31mNameError\u001b[0m: name 'data' is not defined"
     ]
    }
   ],
   "source": [
    "data.to_sql('dataSet', conn, if_exists='replace', index = False)\n",
    "conn.commit()\n",
    "conn.close()"
   ]
  },
  {
   "cell_type": "code",
   "execution_count": null,
   "metadata": {},
   "outputs": [],
   "source": []
  }
 ],
 "metadata": {
  "kernelspec": {
   "display_name": "Python 3",
   "language": "python",
   "name": "python3"
  },
  "language_info": {
   "codemirror_mode": {
    "name": "ipython",
    "version": 3
   },
   "file_extension": ".py",
   "mimetype": "text/x-python",
   "name": "python",
   "nbconvert_exporter": "python",
   "pygments_lexer": "ipython3",
   "version": "3.8.5"
  },
  "toc": {
   "base_numbering": 1,
   "nav_menu": {},
   "number_sections": true,
   "sideBar": true,
   "skip_h1_title": false,
   "title_cell": "Table of Contents",
   "title_sidebar": "Contents",
   "toc_cell": true,
   "toc_position": {},
   "toc_section_display": true,
   "toc_window_display": false
  }
 },
 "nbformat": 4,
 "nbformat_minor": 4
}
