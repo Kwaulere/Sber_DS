{
 "cells": [
  {
   "cell_type": "markdown",
   "metadata": {
    "toc": true
   },
   "source": [
    "<h1>Table of Contents<span class=\"tocSkip\"></span></h1>\n",
    "<div class=\"toc\"><ul class=\"toc-item\"><li><span><a href=\"#Список-объектов\" data-toc-modified-id=\"Список-объектов-1\"><span class=\"toc-item-num\">1&nbsp;&nbsp;</span>Список объектов</a></span></li><li><span><a href=\"#Забираем-конкретные-объекты\" data-toc-modified-id=\"Забираем-конкретные-объекты-2\"><span class=\"toc-item-num\">2&nbsp;&nbsp;</span>Забираем конкретные объекты</a></span></li></ul></div>"
   ]
  },
  {
   "cell_type": "code",
   "execution_count": 331,
   "metadata": {
    "ExecuteTime": {
     "end_time": "2022-08-14T11:01:46.085313Z",
     "start_time": "2022-08-14T11:01:46.081829Z"
    }
   },
   "outputs": [],
   "source": [
    "import requests\n",
    "import sys, json\n",
    "import pandas as pd"
   ]
  },
  {
   "cell_type": "markdown",
   "metadata": {},
   "source": [
    "## Список объектов"
   ]
  },
  {
   "cell_type": "code",
   "execution_count": 311,
   "metadata": {
    "ExecuteTime": {
     "end_time": "2022-08-14T10:34:22.583439Z",
     "start_time": "2022-08-14T10:34:22.576783Z"
    }
   },
   "outputs": [],
   "source": [
    "def object(number_object, cycle):\n",
    "    \n",
    "    objids = []\n",
    "    limit_ = int(number_object / cycle)\n",
    "    offset_ = 0\n",
    "    i = 0\n",
    "    \n",
    "    while i < cycle:\n",
    "        \n",
    "        url = f'https://xn--80az8a.xn--d1aqf.xn--p1ai/%D1%81%D0%B5%D1%80%D0%B2%D0%B8%D1%81%D1%8B/api/kn/object?offset={offset_}&limit={limit_}&sortField=devId.devShortCleanNm&sortType=asc&objStatus=0'\n",
    "        res = requests.get(url)\n",
    "        objects_data = res.json()\n",
    "        objects_list = objects_data.get('data').get('list')\n",
    "        objids_1 = [x.get('objId') for x in objects_list]\n",
    "        objids = objids + objids_1\n",
    "        offset_ += limit_\n",
    "        i += 1\n",
    "    return objids  \n",
    "        "
   ]
  },
  {
   "cell_type": "code",
   "execution_count": 317,
   "metadata": {
    "ExecuteTime": {
     "end_time": "2022-08-14T10:48:35.219429Z",
     "start_time": "2022-08-14T10:47:11.288198Z"
    }
   },
   "outputs": [],
   "source": [
    "object_id = object(number_object = 10257, cycle = 2)"
   ]
  },
  {
   "cell_type": "markdown",
   "metadata": {},
   "source": [
    "## Забираем конкретные объекты"
   ]
  },
  {
   "cell_type": "code",
   "execution_count": 358,
   "metadata": {
    "ExecuteTime": {
     "end_time": "2022-08-14T12:42:35.557112Z",
     "start_time": "2022-08-14T11:59:34.640854Z"
    }
   },
   "outputs": [],
   "source": [
    "data = pd.DataFrame()\n",
    "\n",
    "for obj in object_id:\n",
    "    \n",
    "    url = f'https://xn--80az8a.xn--d1aqf.xn--p1ai/%D1%81%D0%B5%D1%80%D0%B2%D0%B8%D1%81%D1%8B/api/object/{obj}'\n",
    "    res = requests.get(url)\n",
    "    object_info = res.json()\n",
    "    \n",
    "    object_info_df = pd.json_normalize(object_info)\n",
    "    data = data.append(object_info_df)\n",
    "    \n",
    "    "
   ]
  },
  {
   "cell_type": "code",
   "execution_count": 381,
   "metadata": {
    "ExecuteTime": {
     "end_time": "2022-08-14T13:19:10.676912Z",
     "start_time": "2022-08-14T13:19:10.641665Z"
    }
   },
   "outputs": [
    {
     "data": {
      "text/html": [
       "<div>\n",
       "<style scoped>\n",
       "    .dataframe tbody tr th:only-of-type {\n",
       "        vertical-align: middle;\n",
       "    }\n",
       "\n",
       "    .dataframe tbody tr th {\n",
       "        vertical-align: top;\n",
       "    }\n",
       "\n",
       "    .dataframe thead th {\n",
       "        text-align: right;\n",
       "    }\n",
       "</style>\n",
       "<table border=\"1\" class=\"dataframe\">\n",
       "  <thead>\n",
       "    <tr style=\"text-align: right;\">\n",
       "      <th></th>\n",
       "      <th>errcode</th>\n",
       "      <th>data.id</th>\n",
       "      <th>data.pdId</th>\n",
       "      <th>data.developer.devId</th>\n",
       "      <th>data.developer.devShortCleanNm</th>\n",
       "      <th>data.developer.devShortNm</th>\n",
       "      <th>data.developer.devFullCleanNm</th>\n",
       "      <th>data.developer.problObjCnt</th>\n",
       "      <th>data.developer.buildObjCnt</th>\n",
       "      <th>data.developer.comissObjCnt</th>\n",
       "      <th>...</th>\n",
       "      <th>data.developer.bankruptStage.bankruptStageDesc</th>\n",
       "      <th>data.developer.bankruptStage.bankruptLawUrl</th>\n",
       "      <th>data.developer.orgBankruptMsgDttm</th>\n",
       "      <th>data.metro.id</th>\n",
       "      <th>data.metro.name</th>\n",
       "      <th>data.metro.line</th>\n",
       "      <th>data.metro.color</th>\n",
       "      <th>data.metro.time</th>\n",
       "      <th>data.metro.isWalk</th>\n",
       "      <th>data.metro.colors</th>\n",
       "    </tr>\n",
       "  </thead>\n",
       "  <tbody>\n",
       "    <tr>\n",
       "      <th>0</th>\n",
       "      <td>0</td>\n",
       "      <td>29679</td>\n",
       "      <td>124647</td>\n",
       "      <td>7424</td>\n",
       "      <td>212-2</td>\n",
       "      <td>212-2</td>\n",
       "      <td>212-2</td>\n",
       "      <td>0</td>\n",
       "      <td>2</td>\n",
       "      <td>0</td>\n",
       "      <td>...</td>\n",
       "      <td>NaN</td>\n",
       "      <td>NaN</td>\n",
       "      <td>NaN</td>\n",
       "      <td>NaN</td>\n",
       "      <td>NaN</td>\n",
       "      <td>NaN</td>\n",
       "      <td>NaN</td>\n",
       "      <td>NaN</td>\n",
       "      <td>NaN</td>\n",
       "      <td>NaN</td>\n",
       "    </tr>\n",
       "    <tr>\n",
       "      <th>0</th>\n",
       "      <td>0</td>\n",
       "      <td>29678</td>\n",
       "      <td>124648</td>\n",
       "      <td>7424</td>\n",
       "      <td>212-2</td>\n",
       "      <td>212-2</td>\n",
       "      <td>212-2</td>\n",
       "      <td>0</td>\n",
       "      <td>2</td>\n",
       "      <td>0</td>\n",
       "      <td>...</td>\n",
       "      <td>NaN</td>\n",
       "      <td>NaN</td>\n",
       "      <td>NaN</td>\n",
       "      <td>NaN</td>\n",
       "      <td>NaN</td>\n",
       "      <td>NaN</td>\n",
       "      <td>NaN</td>\n",
       "      <td>NaN</td>\n",
       "      <td>NaN</td>\n",
       "      <td>NaN</td>\n",
       "    </tr>\n",
       "    <tr>\n",
       "      <th>0</th>\n",
       "      <td>0</td>\n",
       "      <td>13383</td>\n",
       "      <td>28105</td>\n",
       "      <td>306</td>\n",
       "      <td>2МЕН ГРУПП</td>\n",
       "      <td>2МЕН ГРУПП</td>\n",
       "      <td>2МЕН ГРУПП</td>\n",
       "      <td>0</td>\n",
       "      <td>5</td>\n",
       "      <td>0</td>\n",
       "      <td>...</td>\n",
       "      <td>NaN</td>\n",
       "      <td>NaN</td>\n",
       "      <td>NaN</td>\n",
       "      <td>NaN</td>\n",
       "      <td>NaN</td>\n",
       "      <td>NaN</td>\n",
       "      <td>NaN</td>\n",
       "      <td>NaN</td>\n",
       "      <td>NaN</td>\n",
       "      <td>NaN</td>\n",
       "    </tr>\n",
       "    <tr>\n",
       "      <th>0</th>\n",
       "      <td>0</td>\n",
       "      <td>13397</td>\n",
       "      <td>28141</td>\n",
       "      <td>306</td>\n",
       "      <td>2МЕН ГРУПП</td>\n",
       "      <td>2МЕН ГРУПП</td>\n",
       "      <td>2МЕН ГРУПП</td>\n",
       "      <td>0</td>\n",
       "      <td>5</td>\n",
       "      <td>0</td>\n",
       "      <td>...</td>\n",
       "      <td>NaN</td>\n",
       "      <td>NaN</td>\n",
       "      <td>NaN</td>\n",
       "      <td>NaN</td>\n",
       "      <td>NaN</td>\n",
       "      <td>NaN</td>\n",
       "      <td>NaN</td>\n",
       "      <td>NaN</td>\n",
       "      <td>NaN</td>\n",
       "      <td>NaN</td>\n",
       "    </tr>\n",
       "    <tr>\n",
       "      <th>0</th>\n",
       "      <td>0</td>\n",
       "      <td>13399</td>\n",
       "      <td>28141</td>\n",
       "      <td>306</td>\n",
       "      <td>2МЕН ГРУПП</td>\n",
       "      <td>2МЕН ГРУПП</td>\n",
       "      <td>2МЕН ГРУПП</td>\n",
       "      <td>0</td>\n",
       "      <td>5</td>\n",
       "      <td>0</td>\n",
       "      <td>...</td>\n",
       "      <td>NaN</td>\n",
       "      <td>NaN</td>\n",
       "      <td>NaN</td>\n",
       "      <td>NaN</td>\n",
       "      <td>NaN</td>\n",
       "      <td>NaN</td>\n",
       "      <td>NaN</td>\n",
       "      <td>NaN</td>\n",
       "      <td>NaN</td>\n",
       "      <td>NaN</td>\n",
       "    </tr>\n",
       "  </tbody>\n",
       "</table>\n",
       "<p>5 rows × 109 columns</p>\n",
       "</div>"
      ],
      "text/plain": [
       "  errcode  data.id  data.pdId  data.developer.devId  \\\n",
       "0       0    29679     124647                  7424   \n",
       "0       0    29678     124648                  7424   \n",
       "0       0    13383      28105                   306   \n",
       "0       0    13397      28141                   306   \n",
       "0       0    13399      28141                   306   \n",
       "\n",
       "  data.developer.devShortCleanNm data.developer.devShortNm  \\\n",
       "0                          212-2                     212-2   \n",
       "0                          212-2                     212-2   \n",
       "0                     2МЕН ГРУПП                2МЕН ГРУПП   \n",
       "0                     2МЕН ГРУПП                2МЕН ГРУПП   \n",
       "0                     2МЕН ГРУПП                2МЕН ГРУПП   \n",
       "\n",
       "  data.developer.devFullCleanNm  data.developer.problObjCnt  \\\n",
       "0                         212-2                           0   \n",
       "0                         212-2                           0   \n",
       "0                    2МЕН ГРУПП                           0   \n",
       "0                    2МЕН ГРУПП                           0   \n",
       "0                    2МЕН ГРУПП                           0   \n",
       "\n",
       "   data.developer.buildObjCnt  data.developer.comissObjCnt  ...  \\\n",
       "0                           2                            0  ...   \n",
       "0                           2                            0  ...   \n",
       "0                           5                            0  ...   \n",
       "0                           5                            0  ...   \n",
       "0                           5                            0  ...   \n",
       "\n",
       "  data.developer.bankruptStage.bankruptStageDesc  \\\n",
       "0                                            NaN   \n",
       "0                                            NaN   \n",
       "0                                            NaN   \n",
       "0                                            NaN   \n",
       "0                                            NaN   \n",
       "\n",
       "  data.developer.bankruptStage.bankruptLawUrl  \\\n",
       "0                                         NaN   \n",
       "0                                         NaN   \n",
       "0                                         NaN   \n",
       "0                                         NaN   \n",
       "0                                         NaN   \n",
       "\n",
       "  data.developer.orgBankruptMsgDttm data.metro.id data.metro.name  \\\n",
       "0                               NaN           NaN             NaN   \n",
       "0                               NaN           NaN             NaN   \n",
       "0                               NaN           NaN             NaN   \n",
       "0                               NaN           NaN             NaN   \n",
       "0                               NaN           NaN             NaN   \n",
       "\n",
       "  data.metro.line data.metro.color data.metro.time data.metro.isWalk  \\\n",
       "0             NaN              NaN             NaN               NaN   \n",
       "0             NaN              NaN             NaN               NaN   \n",
       "0             NaN              NaN             NaN               NaN   \n",
       "0             NaN              NaN             NaN               NaN   \n",
       "0             NaN              NaN             NaN               NaN   \n",
       "\n",
       "   data.metro.colors  \n",
       "0                NaN  \n",
       "0                NaN  \n",
       "0                NaN  \n",
       "0                NaN  \n",
       "0                NaN  \n",
       "\n",
       "[5 rows x 109 columns]"
      ]
     },
     "execution_count": 381,
     "metadata": {},
     "output_type": "execute_result"
    }
   ],
   "source": [
    "data[:5]"
   ]
  },
  {
   "cell_type": "code",
   "execution_count": 376,
   "metadata": {
    "ExecuteTime": {
     "end_time": "2022-08-14T13:17:15.936327Z",
     "start_time": "2022-08-14T13:17:15.220075Z"
    }
   },
   "outputs": [],
   "source": [
    "data.to_csv('/Users/crap/Sber/Data/out.csv')"
   ]
  },
  {
   "cell_type": "code",
   "execution_count": 383,
   "metadata": {
    "ExecuteTime": {
     "end_time": "2022-08-14T13:21:59.845410Z",
     "start_time": "2022-08-14T13:21:49.203485Z"
    }
   },
   "outputs": [],
   "source": [
    "data.to_excel('/Users/crap/Sber/Data/out.xlsx')"
   ]
  },
  {
   "cell_type": "code",
   "execution_count": 384,
   "metadata": {
    "ExecuteTime": {
     "end_time": "2022-08-14T13:22:42.569104Z",
     "start_time": "2022-08-14T13:22:42.298208Z"
    }
   },
   "outputs": [],
   "source": [
    "data.to_pickle('/Users/crap/Sber/Data/out.pkl')"
   ]
  }
 ],
 "metadata": {
  "kernelspec": {
   "display_name": "Python 3",
   "language": "python",
   "name": "python3"
  },
  "language_info": {
   "codemirror_mode": {
    "name": "ipython",
    "version": 3
   },
   "file_extension": ".py",
   "mimetype": "text/x-python",
   "name": "python",
   "nbconvert_exporter": "python",
   "pygments_lexer": "ipython3",
   "version": "3.8.5"
  },
  "toc": {
   "base_numbering": 1,
   "nav_menu": {},
   "number_sections": true,
   "sideBar": true,
   "skip_h1_title": false,
   "title_cell": "Table of Contents",
   "title_sidebar": "Contents",
   "toc_cell": true,
   "toc_position": {},
   "toc_section_display": true,
   "toc_window_display": false
  }
 },
 "nbformat": 4,
 "nbformat_minor": 4
}
