{
 "cells": [
  {
   "cell_type": "markdown",
   "source": [
    "[![Open In Colab](https://colab.research.google.com/assets/colab-badge.svg)](https://colab.research.google.com/github/Kwaulere/Sber_DS/blob/master/Home_work/Home_work_4.ipynb)"
   ],
   "metadata": {
    "collapsed": false,
    "pycharm": {
     "name": "#%% md\n"
    }
   }
  },
  {
   "cell_type": "code",
   "execution_count": 8,
   "outputs": [],
   "source": [
    "from pandas.core.common import SettingWithCopyWarning\n",
    "import warnings\n",
    "import pandas as pd\n",
    "import random\n",
    "warnings.simplefilter(action=\"ignore\", category=SettingWithCopyWarning)"
   ],
   "metadata": {
    "collapsed": false,
    "pycharm": {
     "name": "#%%\n"
    }
   }
  },
  {
   "cell_type": "markdown",
   "source": [
    "## Загрузка DataFrame\n",
    "### Задача 1\n",
    "На основании данных портала \"Открытые данные России\" о результатах Химического анализа родника в Нескучном саду https://data.gov.ru/opendata/7708660670-rodnik-neskuchniy-sad\n",
    "средствами библиотеки __Pandas__ сформируйте поле выводов по каждому анализирумомому параметру.\n",
    "Например, по показателю _pH_ получен результат _8.4 единицы pH_ при нормативе от _6 до 9 единиц pH_. Т.о. по данному показателю результат анализа в норме.\n",
    "Для решения задачи необходимо программно \"прочитать и понять\" значение столбца \"Норматив\" и выделенное численное значение сравнить с нормативом согласно логике норматива. Например, __6 >= pH >= 9__.\n",
    "В итоговом DataFrame столбец \"Показатель\" сделайте индексным.\n",
    "\n",
    "\n",
    "Загзрузка DataFrame выполняется непосредственно c сайта \"Открытые данные России\" https://data.gov.ru/opendata/7708660670-rodnik-neskuchniy-sad/data-20160608T1215-structure-20160608T1215.csv (см. код ниже).\n"
   ],
   "metadata": {
    "collapsed": false,
    "pycharm": {
     "name": "#%% md\n"
    }
   }
  },
  {
   "cell_type": "code",
   "execution_count": 17,
   "outputs": [],
   "source": [
    "df=pd.read_csv(\"/Users/crap/Sber/Data/Химический анализ родника в Нескучном саду.csv\", sep=';')"
   ],
   "metadata": {
    "collapsed": false,
    "pycharm": {
     "name": "#%%\n"
    }
   }
  },
  {
   "cell_type": "code",
   "execution_count": 18,
   "outputs": [
    {
     "data": {
      "text/plain": "                        Показатель Единица измерений  Результат анализа  \\\n0                               pH        единицы pH                8.4   \n1                            Запах             баллы                  1   \n2                        Цветность           градусы            б/цвета   \n3                        Жёсткость       мг-эквл/дм3  9.199999999999999   \n4  Аммиак и аммоний-ион (по азоту)            мг/дм3               0.42   \n\n          Норматив  \n0   в пределах 6-9  \n1     не более 2-3  \n2      не более 30  \n3  в пределах 7-10  \n4     не более 1,5  ",
      "text/html": "<div>\n<style scoped>\n    .dataframe tbody tr th:only-of-type {\n        vertical-align: middle;\n    }\n\n    .dataframe tbody tr th {\n        vertical-align: top;\n    }\n\n    .dataframe thead th {\n        text-align: right;\n    }\n</style>\n<table border=\"1\" class=\"dataframe\">\n  <thead>\n    <tr style=\"text-align: right;\">\n      <th></th>\n      <th>Показатель</th>\n      <th>Единица измерений</th>\n      <th>Результат анализа</th>\n      <th>Норматив</th>\n    </tr>\n  </thead>\n  <tbody>\n    <tr>\n      <th>0</th>\n      <td>pH</td>\n      <td>единицы pH</td>\n      <td>8.4</td>\n      <td>в пределах 6-9</td>\n    </tr>\n    <tr>\n      <th>1</th>\n      <td>Запах</td>\n      <td>баллы</td>\n      <td>1</td>\n      <td>не более 2-3</td>\n    </tr>\n    <tr>\n      <th>2</th>\n      <td>Цветность</td>\n      <td>градусы</td>\n      <td>б/цвета</td>\n      <td>не более 30</td>\n    </tr>\n    <tr>\n      <th>3</th>\n      <td>Жёсткость</td>\n      <td>мг-эквл/дм3</td>\n      <td>9.199999999999999</td>\n      <td>в пределах 7-10</td>\n    </tr>\n    <tr>\n      <th>4</th>\n      <td>Аммиак и аммоний-ион (по азоту)</td>\n      <td>мг/дм3</td>\n      <td>0.42</td>\n      <td>не более 1,5</td>\n    </tr>\n  </tbody>\n</table>\n</div>"
     },
     "execution_count": 18,
     "metadata": {},
     "output_type": "execute_result"
    }
   ],
   "source": [
    "df.head(5)"
   ],
   "metadata": {
    "collapsed": false,
    "pycharm": {
     "name": "#%%\n"
    }
   }
  },
  {
   "cell_type": "markdown",
   "source": [
    "##### Разделим выборку по виду показателя 'в пределах' и 'не более'"
   ],
   "metadata": {
    "collapsed": false,
    "pycharm": {
     "name": "#%% md\n"
    }
   }
  },
  {
   "cell_type": "code",
   "execution_count": 19,
   "outputs": [],
   "source": [
    "dataFrameOut = df[df['Норматив'].str.contains('в пределах')]\n",
    "dataFrameOut['borders'] = dataFrameOut['Норматив'].str.findall(r'\\d{1,2}')\n",
    "dataFrameOut['min'] = dataFrameOut['borders'].apply(lambda x: x[0])\n",
    "dataFrameOut['max'] = dataFrameOut['borders'].apply(lambda x: x[1])\n",
    "dataFrameOut[['min','max','Результат анализа']] = dataFrameOut[['min','max','Результат анализа']].astype(float)\n",
    "dataFrameOut.loc[(dataFrameOut['max'] > dataFrameOut['Результат анализа']) & (dataFrameOut['min'] < dataFrameOut['Результат анализа']), 'Выводы'] = 'Результат в норме'\n",
    "dataFrameOut.loc[(dataFrameOut['max'] < dataFrameOut['Результат анализа']) | (dataFrameOut['min'] > dataFrameOut['Результат анализа']), 'Выводы'] = 'Результат провален'\n",
    "final = dataFrameOut[['Показатель', 'Единица измерений', 'Результат анализа', 'Норматив', 'Выводы']]"
   ],
   "metadata": {
    "collapsed": false,
    "pycharm": {
     "name": "#%%\n"
    }
   }
  },
  {
   "cell_type": "markdown",
   "source": [],
   "metadata": {
    "collapsed": false,
    "pycharm": {
     "name": "#%% md\n"
    }
   }
  },
  {
   "cell_type": "markdown",
   "source": [],
   "metadata": {
    "collapsed": false,
    "pycharm": {
     "name": "#%% md\n"
    }
   }
  },
  {
   "cell_type": "code",
   "execution_count": 20,
   "outputs": [],
   "source": [
    "dataFrameOut = df[df['Норматив'].str.contains('не более')]\n",
    "dataFrameOut['границы'] = dataFrameOut['Норматив'].str.replace('не более ','').str.replace('-',',').str.replace(',','.')\n",
    "dataFrameOut['границы'] = dataFrameOut['границы'].astype(float)\n",
    "dataFrameOut['Результат анализа'] = dataFrameOut['Результат анализа'].str.replace('б/цвета','0')\n",
    "dataFrameOut['Результат анализа'] = dataFrameOut['Результат анализа'].astype(float)\n",
    "dataFrameOut.loc[dataFrameOut['границы'] >= dataFrameOut['Результат анализа'], 'Выводы'] = 'Результат в норме'\n",
    "dataFrameOut.loc[dataFrameOut['границы'] < dataFrameOut['Результат анализа'], 'Выводы'] = 'Результат провален'\n",
    "dataFrameOut = dataFrameOut[['Показатель', 'Единица измерений', 'Результат анализа', 'Норматив', 'Выводы']]\n",
    "final = pd.concat([final, dataFrameOut])"
   ],
   "metadata": {
    "collapsed": false,
    "pycharm": {
     "name": "#%%\n"
    }
   }
  },
  {
   "cell_type": "markdown",
   "source": [
    "####  В выводах получаем результат проверки показателей, если тест провален это будет отмечено"
   ],
   "metadata": {
    "collapsed": false,
    "pycharm": {
     "name": "#%% md\n"
    }
   }
  },
  {
   "cell_type": "code",
   "execution_count": 21,
   "outputs": [
    {
     "data": {
      "text/plain": "                               Показатель Единица измерений  \\\n0                                      pH        единицы pH   \n3                               Жёсткость       мг-эквл/дм3   \n1                                   Запах             баллы   \n2                               Цветность           градусы   \n4         Аммиак и аммоний-ион (по азоту)            мг/дм3   \n5                        Нитриты (по NO2)            мг/дм3   \n6                        Нитраты (по NO3)            мг/дм3   \n7                             Фосфаты (P)            мг/дм3   \n8                            Хлориды (Cl)            мг/дм3   \n9                          Сульфаты (SO4)            мг/дм3   \n10  Железо (включая хлорное железо) по Fe            мг/дм3   \n11                                  Нефть            мг/дм3   \n12    Общая минерализация (сухой остаток)            мг/дм3   \n13            Окисляемость перманганатная            мг/дм3   \n\n    Результат анализа         Норматив              Выводы  \n0               8.400   в пределах 6-9   Результат в норме  \n3               9.200  в пределах 7-10   Результат в норме  \n1               1.000     не более 2-3   Результат в норме  \n2               0.000      не более 30   Результат в норме  \n4               0.420     не более 1,5   Результат в норме  \n5               0.017     не более 3,3   Результат в норме  \n6              24.000      не более 45   Результат в норме  \n7               0.360     не более 3,5   Результат в норме  \n8             200.000     не более 350   Результат в норме  \n9             189.500     не более 500   Результат в норме  \n10              0.019     не более 0,3   Результат в норме  \n11              0.550     не более 0,3  Результат провален  \n12            590.000    не более 1000   Результат в норме  \n13              2.000     не более 0,5  Результат провален  ",
      "text/html": "<div>\n<style scoped>\n    .dataframe tbody tr th:only-of-type {\n        vertical-align: middle;\n    }\n\n    .dataframe tbody tr th {\n        vertical-align: top;\n    }\n\n    .dataframe thead th {\n        text-align: right;\n    }\n</style>\n<table border=\"1\" class=\"dataframe\">\n  <thead>\n    <tr style=\"text-align: right;\">\n      <th></th>\n      <th>Показатель</th>\n      <th>Единица измерений</th>\n      <th>Результат анализа</th>\n      <th>Норматив</th>\n      <th>Выводы</th>\n    </tr>\n  </thead>\n  <tbody>\n    <tr>\n      <th>0</th>\n      <td>pH</td>\n      <td>единицы pH</td>\n      <td>8.400</td>\n      <td>в пределах 6-9</td>\n      <td>Результат в норме</td>\n    </tr>\n    <tr>\n      <th>3</th>\n      <td>Жёсткость</td>\n      <td>мг-эквл/дм3</td>\n      <td>9.200</td>\n      <td>в пределах 7-10</td>\n      <td>Результат в норме</td>\n    </tr>\n    <tr>\n      <th>1</th>\n      <td>Запах</td>\n      <td>баллы</td>\n      <td>1.000</td>\n      <td>не более 2-3</td>\n      <td>Результат в норме</td>\n    </tr>\n    <tr>\n      <th>2</th>\n      <td>Цветность</td>\n      <td>градусы</td>\n      <td>0.000</td>\n      <td>не более 30</td>\n      <td>Результат в норме</td>\n    </tr>\n    <tr>\n      <th>4</th>\n      <td>Аммиак и аммоний-ион (по азоту)</td>\n      <td>мг/дм3</td>\n      <td>0.420</td>\n      <td>не более 1,5</td>\n      <td>Результат в норме</td>\n    </tr>\n    <tr>\n      <th>5</th>\n      <td>Нитриты (по NO2)</td>\n      <td>мг/дм3</td>\n      <td>0.017</td>\n      <td>не более 3,3</td>\n      <td>Результат в норме</td>\n    </tr>\n    <tr>\n      <th>6</th>\n      <td>Нитраты (по NO3)</td>\n      <td>мг/дм3</td>\n      <td>24.000</td>\n      <td>не более 45</td>\n      <td>Результат в норме</td>\n    </tr>\n    <tr>\n      <th>7</th>\n      <td>Фосфаты (P)</td>\n      <td>мг/дм3</td>\n      <td>0.360</td>\n      <td>не более 3,5</td>\n      <td>Результат в норме</td>\n    </tr>\n    <tr>\n      <th>8</th>\n      <td>Хлориды (Cl)</td>\n      <td>мг/дм3</td>\n      <td>200.000</td>\n      <td>не более 350</td>\n      <td>Результат в норме</td>\n    </tr>\n    <tr>\n      <th>9</th>\n      <td>Сульфаты (SO4)</td>\n      <td>мг/дм3</td>\n      <td>189.500</td>\n      <td>не более 500</td>\n      <td>Результат в норме</td>\n    </tr>\n    <tr>\n      <th>10</th>\n      <td>Железо (включая хлорное железо) по Fe</td>\n      <td>мг/дм3</td>\n      <td>0.019</td>\n      <td>не более 0,3</td>\n      <td>Результат в норме</td>\n    </tr>\n    <tr>\n      <th>11</th>\n      <td>Нефть</td>\n      <td>мг/дм3</td>\n      <td>0.550</td>\n      <td>не более 0,3</td>\n      <td>Результат провален</td>\n    </tr>\n    <tr>\n      <th>12</th>\n      <td>Общая минерализация (сухой остаток)</td>\n      <td>мг/дм3</td>\n      <td>590.000</td>\n      <td>не более 1000</td>\n      <td>Результат в норме</td>\n    </tr>\n    <tr>\n      <th>13</th>\n      <td>Окисляемость перманганатная</td>\n      <td>мг/дм3</td>\n      <td>2.000</td>\n      <td>не более 0,5</td>\n      <td>Результат провален</td>\n    </tr>\n  </tbody>\n</table>\n</div>"
     },
     "execution_count": 21,
     "metadata": {},
     "output_type": "execute_result"
    }
   ],
   "source": [
    "final"
   ],
   "metadata": {
    "collapsed": false,
    "pycharm": {
     "name": "#%%\n"
    }
   }
  },
  {
   "cell_type": "markdown",
   "source": [
    "Задача 2\n",
    "В ящике 5 апельсинов и 4 яблока. Наудачу выбираются 3 фрукта. Какова вероятность, что все три фрукта – апельсины?\n",
    "\n",
    "В интернете полученный аналитически ответ 0.119. Подтверждается ли он эксперементально?\n",
    "\n"
   ],
   "metadata": {
    "collapsed": false,
    "pycharm": {
     "name": "#%% md\n"
    }
   }
  },
  {
   "cell_type": "code",
   "execution_count": 131,
   "outputs": [
    {
     "name": "stdout",
     "output_type": "stream",
     "text": [
      "0.13528769325434759\n"
     ]
    }
   ],
   "source": [
    "n = 1000000\n",
    "result = {'success':0, 'fail':0}\n",
    "for i in range(n):\n",
    "    box = ['apple']*4 + [\"orange\"]*5\n",
    "\n",
    "    a = box.pop(random.randrange(0,len(box)))\n",
    "    b = box.pop(random.randrange(0,len(box)))\n",
    "    c = box.pop(random.randrange(0,len(box)))\n",
    "\n",
    "    if a == b == c == 'orange':\n",
    "        result['success'] += 1\n",
    "    else:\n",
    "        result['fail'] += 1\n",
    "print(f'{result[\"success\"]/result[\"fail\"]}')"
   ],
   "metadata": {
    "collapsed": false,
    "pycharm": {
     "name": "#%%\n"
    }
   }
  },
  {
   "cell_type": "markdown",
   "source": [
    "Задача 3\n",
    "Мастер, имея 10 деталей, из которых 3 – нестандартных, проверяет детали одну за другой, пока ему не попадется стандартная. Какова вероятность, что он проверит ровно две детали?\n",
    "\n",
    "В интернете полученный аналитически ответ 7/30 или 0.23333. Подтверждается ли он эксперементально?"
   ],
   "metadata": {
    "collapsed": false,
    "pycharm": {
     "name": "#%% md\n"
    }
   }
  },
  {
   "cell_type": "code",
   "execution_count": 132,
   "outputs": [
    {
     "name": "stdout",
     "output_type": "stream",
     "text": [
      "0.3046263354481326\n"
     ]
    }
   ],
   "source": [
    "n = 1000000\n",
    "result = {'success':0, 'fail':0}\n",
    "for i in range(n):\n",
    "    box = ['stndrt']*7 + [\"nostndrt\"]*3\n",
    "    a = box.pop(random.randrange(0,len(box)))\n",
    "    b = random.choice(box)\n",
    "\n",
    "    if a == \"nostndrt\" and b == 'stndrt':\n",
    "        result['success'] += 1\n",
    "    else:\n",
    "        result['fail'] += 1\n",
    "print(f'{result[\"success\"]/result[\"fail\"]}')\n"
   ],
   "metadata": {
    "collapsed": false,
    "pycharm": {
     "name": "#%%\n"
    }
   }
  }
 ],
 "metadata": {
  "kernelspec": {
   "name": "python3",
   "language": "python",
   "display_name": "Python 3 (ipykernel)"
  },
  "language_info": {
   "codemirror_mode": {
    "name": "ipython",
    "version": 2
   },
   "file_extension": ".py",
   "mimetype": "text/x-python",
   "name": "python",
   "nbconvert_exporter": "python",
   "pygments_lexer": "ipython2",
   "version": "2.7.6"
  }
 },
 "nbformat": 4,
 "nbformat_minor": 0
}